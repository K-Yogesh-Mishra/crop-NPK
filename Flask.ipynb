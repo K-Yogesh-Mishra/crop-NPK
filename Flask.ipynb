{
 "cells": [
  {
   "cell_type": "code",
   "execution_count": 1,
   "id": "f7fcf0f7",
   "metadata": {},
   "outputs": [
    {
     "name": "stdout",
     "output_type": "stream",
     "text": [
      "Defaulting to user installation because normal site-packages is not writeable\n",
      "Requirement already satisfied: flask in c:\\programdata\\anaconda3\\lib\\site-packages (2.2.2)\n",
      "Requirement already satisfied: Werkzeug>=2.2.2 in c:\\programdata\\anaconda3\\lib\\site-packages (from flask) (2.2.3)\n",
      "Requirement already satisfied: Jinja2>=3.0 in c:\\programdata\\anaconda3\\lib\\site-packages (from flask) (3.1.2)\n",
      "Requirement already satisfied: itsdangerous>=2.0 in c:\\programdata\\anaconda3\\lib\\site-packages (from flask) (2.0.1)\n",
      "Requirement already satisfied: click>=8.0 in c:\\programdata\\anaconda3\\lib\\site-packages (from flask) (8.0.4)\n",
      "Requirement already satisfied: colorama in c:\\programdata\\anaconda3\\lib\\site-packages (from click>=8.0->flask) (0.4.6)\n",
      "Requirement already satisfied: MarkupSafe>=2.0 in c:\\programdata\\anaconda3\\lib\\site-packages (from Jinja2>=3.0->flask) (2.1.1)\n"
     ]
    }
   ],
   "source": [
    "!pip install flask"
   ]
  },
  {
   "cell_type": "code",
   "execution_count": 2,
   "id": "4c0eb6ee",
   "metadata": {
    "scrolled": false
   },
   "outputs": [
    {
     "name": "stdout",
     "output_type": "stream",
     "text": [
      " * Serving Flask app '__main__'\n",
      " * Debug mode: off\n"
     ]
    },
    {
     "name": "stderr",
     "output_type": "stream",
     "text": [
      "WARNING: This is a development server. Do not use it in a production deployment. Use a production WSGI server instead.\n",
      " * Running on http://127.0.0.1:5000\n",
      "Press CTRL+C to quit\n",
      "127.0.0.1 - - [23/Aug/2023 16:13:22] \"GET / HTTP/1.1\" 200 -\n",
      "127.0.0.1 - - [23/Aug/2023 16:13:24] \"GET /favicon.ico HTTP/1.1\" 404 -\n",
      "127.0.0.1 - - [23/Aug/2023 16:13:24] \"GET /favicon.ico HTTP/1.1\" 404 -\n"
     ]
    }
   ],
   "source": [
    "from flask import Flask, render_template, request\n",
    "import pickle\n",
    "\n",
    "app = Flask(__name__)\n",
    "\n",
    "# Load your trained models here\n",
    "def load_modeljan_feb_pickle():\n",
    "    with open('modeljan_feb_pickle', 'rb') as f:\n",
    "        model = pickle.load(f)\n",
    "    with open('preprocessorjan_feb','rb') as f:\n",
    "        preprocessor1 = pickle.load(f)\n",
    "    return model,preprocessor1\n",
    "\n",
    "def load_modeljun_sep_pickle():\n",
    "    with open('modeljun_sep_pickle', 'rb') as f:\n",
    "        model = pickle.load(f)\n",
    "    with open('preprocessorjun_sep','rb') as f:\n",
    "        preprocessor2 = pickle.load(f)\n",
    "    return model,preprocessor2\n",
    "\n",
    "def load_modelmar_may_pickle():\n",
    "    with open('modelmar_may_pickle', 'rb') as f:\n",
    "        model = pickle.load(f)\n",
    "    with open('preprocessormar_may','rb') as f:\n",
    "        preprocessor3 = pickle.load(f)\n",
    "    return model,preprocessor3\n",
    "\n",
    "def load_modeloct_dec_pickle():\n",
    "    with open('modeloct_dec_pickle', 'rb') as f:\n",
    "        model = pickle.load(f)\n",
    "    with open('preprocessoroct_dec','rb') as f:\n",
    "        preprocessor4 = pickle.load(f)\n",
    "    return model,preprocessor4\n",
    "\n",
    "@app.route('/', methods=['GET', 'POST'])\n",
    "def index():\n",
    "    if request.method == 'POST':\n",
    "        year = float(request.form['year'])\n",
    "        area = request.form['AREA']\n",
    "        features=([[area,year]])\n",
    "        # Load the models\n",
    "        model1,preprocessor1 = load_modeljan_feb_pickle()\n",
    "        model2,preprocessor2 = load_modelmar_may_pickle()\n",
    "        model3,preprocessor3 = load_modeljun_sep_pickle()\n",
    "        model4,preprocessor4 = load_modeloct_dec_pickle()\n",
    "        \n",
    "        transformed_features1=preprocessor1.transform(features)\n",
    "        transformed_features2=preprocessor2.transform(features)\n",
    "        transformed_features3=preprocessor3.transform(features)\n",
    "        transformed_features4=preprocessor4.transform(features)\n",
    "        # Replace with your prediction logic using the loaded models\n",
    "        prediction1 = model1.predict(transformed_features1)\n",
    "        prediction2 = model2.predict(transformed_features2)\n",
    "        prediction3 = model3.predict(transformed_features3)\n",
    "        prediction4 = model4.predict(transformed_features4)\n",
    "        return render_template('index.html', prediction1=prediction1, prediction2=prediction2, prediction3=prediction3, prediction4=prediction4)\n",
    "\n",
    "    return render_template('index.html', prediction1=None, prediction2=None, prediction3=None, prediction4=None)\n",
    "\n",
    "if __name__ == '__main__':\n",
    "    app.run(debug=False)\n",
    "\n"
   ]
  },
  {
   "cell_type": "code",
   "execution_count": null,
   "id": "71c2aacb",
   "metadata": {},
   "outputs": [],
   "source": []
  }
 ],
 "metadata": {
  "kernelspec": {
   "display_name": "Python 3 (ipykernel)",
   "language": "python",
   "name": "python3"
  },
  "language_info": {
   "codemirror_mode": {
    "name": "ipython",
    "version": 3
   },
   "file_extension": ".py",
   "mimetype": "text/x-python",
   "name": "python",
   "nbconvert_exporter": "python",
   "pygments_lexer": "ipython3",
   "version": "3.11.4"
  }
 },
 "nbformat": 4,
 "nbformat_minor": 5
}
