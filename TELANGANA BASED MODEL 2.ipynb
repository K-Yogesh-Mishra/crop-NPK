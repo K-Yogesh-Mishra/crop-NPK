{
 "cells": [
  {
   "cell_type": "code",
   "execution_count": 1,
   "id": "5acea262",
   "metadata": {},
   "outputs": [],
   "source": [
    "import numpy as np\n",
    "import pandas as pd\n",
    "from matplotlib import pyplot as plt\n",
    "import pandas as pd\n",
    "import numpy as np\n",
    "import math\n",
    "import sklearn\n",
    "from sklearn.model_selection import train_test_split\n",
    "from sklearn.metrics import mean_squared_error,r2_score,mean_absolute_error\n",
    "import matplotlib.pyplot as plt\n",
    "import seaborn as sb\n",
    "from sklearn import preprocessing"
   ]
  },
  {
   "cell_type": "code",
   "execution_count": 2,
   "id": "1d3158a7",
   "metadata": {},
   "outputs": [
    {
     "name": "stdout",
     "output_type": "stream",
     "text": [
      "<class 'pandas.core.frame.DataFrame'>\n",
      "RangeIndex: 4116 entries, 0 to 4115\n",
      "Data columns (total 19 columns):\n",
      " #   Column       Non-Null Count  Dtype  \n",
      "---  ------       --------------  -----  \n",
      " 0   SUBDIVISION  4116 non-null   object \n",
      " 1   YEAR         4116 non-null   int64  \n",
      " 2   JAN          4116 non-null   float64\n",
      " 3   FEB          4116 non-null   float64\n",
      " 4   MAR          4116 non-null   float64\n",
      " 5   APR          4116 non-null   float64\n",
      " 6   MAY          4116 non-null   float64\n",
      " 7   JUN          4116 non-null   float64\n",
      " 8   JUL          4116 non-null   float64\n",
      " 9   AUG          4116 non-null   float64\n",
      " 10  SEP          4116 non-null   float64\n",
      " 11  OCT          4116 non-null   float64\n",
      " 12  NOV          4116 non-null   float64\n",
      " 13  DEC          4116 non-null   float64\n",
      " 14  ANNUAL       4116 non-null   float64\n",
      " 15  Jan-Feb      4116 non-null   float64\n",
      " 16  Mar-May      4116 non-null   float64\n",
      " 17  Jun-Sep      4116 non-null   float64\n",
      " 18  Oct-Dec      4116 non-null   float64\n",
      "dtypes: float64(17), int64(1), object(1)\n",
      "memory usage: 611.1+ KB\n"
     ]
    },
    {
     "name": "stderr",
     "output_type": "stream",
     "text": [
      "C:\\Users\\Yogesh Mishra\\AppData\\Local\\Temp\\ipykernel_16844\\3669177981.py:2: FutureWarning: The default value of numeric_only in DataFrame.mean is deprecated. In a future version, it will default to False. In addition, specifying 'numeric_only=None' is deprecated. Select only valid columns or specify the value of numeric_only to silence this warning.\n",
      "  data = data.fillna(data.mean())\n"
     ]
    }
   ],
   "source": [
    "data = pd.read_csv(\"rainfall in india 1901-2015.csv\",sep=\",\")\n",
    "data = data.fillna(data.mean())\n",
    "data.info()"
   ]
  },
  {
   "cell_type": "code",
   "execution_count": 3,
   "id": "9098feeb",
   "metadata": {},
   "outputs": [
    {
     "name": "stdout",
     "output_type": "stream",
     "text": [
      "<bound method DataFrame.info of                     SUBDIVISION  YEAR\n",
      "0     ANDAMAN & NICOBAR ISLANDS  1901\n",
      "1     ANDAMAN & NICOBAR ISLANDS  1902\n",
      "2     ANDAMAN & NICOBAR ISLANDS  1903\n",
      "3     ANDAMAN & NICOBAR ISLANDS  1904\n",
      "4     ANDAMAN & NICOBAR ISLANDS  1905\n",
      "...                         ...   ...\n",
      "4111                LAKSHADWEEP  2011\n",
      "4112                LAKSHADWEEP  2012\n",
      "4113                LAKSHADWEEP  2013\n",
      "4114                LAKSHADWEEP  2014\n",
      "4115                LAKSHADWEEP  2015\n",
      "\n",
      "[4116 rows x 2 columns]>\n",
      "<bound method DataFrame.info of       Mar-May\n",
      "0       560.3\n",
      "1       458.3\n",
      "2       236.1\n",
      "3       506.9\n",
      "4       309.7\n",
      "...       ...\n",
      "4111    196.2\n",
      "4112     99.6\n",
      "4113    131.1\n",
      "4114     76.7\n",
      "4115    223.9\n",
      "\n",
      "[4116 rows x 1 columns]>\n"
     ]
    }
   ],
   "source": [
    "from sklearn.model_selection import train_test_split\n",
    "from sklearn.metrics import mean_absolute_error\n",
    "from sklearn.preprocessing import OneHotEncoder,StandardScaler\n",
    "from sklearn.compose import ColumnTransformer\n",
    "temp = data\n",
    "#temp1=temp.values.reshape(-1,1)\n",
    "X=data[['SUBDIVISION','YEAR']]\n",
    "print(X.info)\n",
    "y=temp.iloc[:,[16]]\n",
    "print(y.info)\n",
    "X_train, X_test, y_train, y_test = train_test_split(X, y, test_size=0.1, random_state=42)"
   ]
  },
  {
   "cell_type": "code",
   "execution_count": 4,
   "id": "389dc76b",
   "metadata": {},
   "outputs": [],
   "source": [
    "from sklearn.model_selection import train_test_split\n",
    "from sklearn.metrics import mean_absolute_error\n",
    "from sklearn.preprocessing import OneHotEncoder,StandardScaler\n",
    "from sklearn.compose import ColumnTransformer\n",
    "ohe=OneHotEncoder(drop='first')\n",
    "scaler=StandardScaler()\n",
    "preprocessor=ColumnTransformer(\n",
    "    transformers=[('onehotencoder',ohe,[0]),\n",
    "                  ('standardization',scaler,[1])\n",
    "],remainder='passthrough'\n",
    ")"
   ]
  },
  {
   "cell_type": "code",
   "execution_count": 5,
   "id": "5271a9bb",
   "metadata": {},
   "outputs": [],
   "source": [
    "X_traindummy=preprocessor.fit_transform(X_train)\n",
    "X_testdummy=preprocessor.fit_transform(X_test)"
   ]
  },
  {
   "cell_type": "code",
   "execution_count": 6,
   "id": "66ce5d63",
   "metadata": {},
   "outputs": [
    {
     "name": "stdout",
     "output_type": "stream",
     "text": [
      "143.37184350030472\n"
     ]
    }
   ],
   "source": [
    "from sklearn import linear_model\n",
    "\n",
    "# linear model\n",
    "reg = linear_model.ElasticNet(alpha=0.5)\n",
    "reg.fit(X_traindummy, y_train)\n",
    "y_pred = reg.predict(X_testdummy)\n",
    "print(mean_absolute_error(y_test, y_pred)) "
   ]
  },
  {
   "cell_type": "code",
   "execution_count": 7,
   "id": "f3bd2d58",
   "metadata": {},
   "outputs": [
    {
     "name": "stderr",
     "output_type": "stream",
     "text": [
      "C:\\ProgramData\\anaconda3\\Lib\\site-packages\\sklearn\\utils\\validation.py:1184: DataConversionWarning: A column-vector y was passed when a 1d array was expected. Please change the shape of y to (n_samples, ), for example using ravel().\n",
      "  y = column_or_1d(y, warn=True)\n"
     ]
    },
    {
     "name": "stdout",
     "output_type": "stream",
     "text": [
      "54.89437580826918\n"
     ]
    }
   ],
   "source": [
    "from sklearn.svm import SVR\n",
    "\n",
    "# SVM model\n",
    "model = SVR(kernel='rbf',gamma=25, C=90)\n",
    "model.fit(X_traindummy, y_train) \n",
    "y_pred = model.predict(X_testdummy)\n",
    "print(mean_absolute_error(y_test, y_pred))"
   ]
  },
  {
   "cell_type": "code",
   "execution_count": 8,
   "id": "a10feaa3",
   "metadata": {},
   "outputs": [],
   "source": [
    "import pickle\n",
    "\n",
    "# Assuming 'model' and 'preprocessor' are defined somewhere above\n",
    "\n",
    "# Save the model\n",
    "with open('modelmar_may_pickle', 'wb') as model_file:\n",
    "    pickle.dump(model, model_file)\n",
    "\n",
    "# Save the preprocessor\n",
    "with open('preprocessormar_may', 'wb') as preprocessor_file:\n",
    "    pickle.dump(preprocessor, preprocessor_file)"
   ]
  },
  {
   "cell_type": "code",
   "execution_count": 9,
   "id": "0cdddc20",
   "metadata": {},
   "outputs": [
    {
     "name": "stdout",
     "output_type": "stream",
     "text": [
      "[111.98590761]\n"
     ]
    },
    {
     "name": "stderr",
     "output_type": "stream",
     "text": [
      "C:\\ProgramData\\anaconda3\\Lib\\site-packages\\sklearn\\base.py:464: UserWarning: X does not have valid feature names, but OneHotEncoder was fitted with feature names\n",
      "  warnings.warn(\n",
      "C:\\ProgramData\\anaconda3\\Lib\\site-packages\\sklearn\\base.py:464: UserWarning: X does not have valid feature names, but StandardScaler was fitted with feature names\n",
      "  warnings.warn(\n"
     ]
    }
   ],
   "source": [
    "X_new=preprocessor.transform([['BIHAR',2014]])\n",
    "y_pred=model.predict(X_new)\n",
    "print(y_pred)"
   ]
  },
  {
   "cell_type": "code",
   "execution_count": null,
   "id": "af6760e2",
   "metadata": {},
   "outputs": [],
   "source": []
  }
 ],
 "metadata": {
  "kernelspec": {
   "display_name": "Python 3 (ipykernel)",
   "language": "python",
   "name": "python3"
  },
  "language_info": {
   "codemirror_mode": {
    "name": "ipython",
    "version": 3
   },
   "file_extension": ".py",
   "mimetype": "text/x-python",
   "name": "python",
   "nbconvert_exporter": "python",
   "pygments_lexer": "ipython3",
   "version": "3.11.4"
  }
 },
 "nbformat": 4,
 "nbformat_minor": 5
}
