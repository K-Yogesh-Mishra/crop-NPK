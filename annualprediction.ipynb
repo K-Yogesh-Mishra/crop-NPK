{
 "cells": [
  {
   "cell_type": "code",
   "execution_count": 1,
   "id": "d694510c",
   "metadata": {},
   "outputs": [],
   "source": [
    "import numpy as np\n",
    "import pandas as pd\n",
    "from matplotlib import pyplot as plt\n",
    "import pandas as pd\n",
    "import numpy as np\n",
    "import math\n",
    "import sklearn\n",
    "from sklearn.model_selection import train_test_split\n",
    "from sklearn.metrics import mean_squared_error,r2_score,mean_absolute_error\n",
    "import matplotlib.pyplot as plt\n",
    "import seaborn as sb\n",
    "from sklearn import preprocessing"
   ]
  },
  {
   "cell_type": "code",
   "execution_count": 2,
   "id": "713e8798",
   "metadata": {},
   "outputs": [
    {
     "name": "stdout",
     "output_type": "stream",
     "text": [
      "<class 'pandas.core.frame.DataFrame'>\n",
      "RangeIndex: 4116 entries, 0 to 4115\n",
      "Data columns (total 19 columns):\n",
      " #   Column       Non-Null Count  Dtype  \n",
      "---  ------       --------------  -----  \n",
      " 0   SUBDIVISION  4116 non-null   object \n",
      " 1   YEAR         4116 non-null   int64  \n",
      " 2   JAN          4116 non-null   float64\n",
      " 3   FEB          4116 non-null   float64\n",
      " 4   MAR          4116 non-null   float64\n",
      " 5   APR          4116 non-null   float64\n",
      " 6   MAY          4116 non-null   float64\n",
      " 7   JUN          4116 non-null   float64\n",
      " 8   JUL          4116 non-null   float64\n",
      " 9   AUG          4116 non-null   float64\n",
      " 10  SEP          4116 non-null   float64\n",
      " 11  OCT          4116 non-null   float64\n",
      " 12  NOV          4116 non-null   float64\n",
      " 13  DEC          4116 non-null   float64\n",
      " 14  ANNUAL       4116 non-null   float64\n",
      " 15  Jan-Feb      4116 non-null   float64\n",
      " 16  Mar-May      4116 non-null   float64\n",
      " 17  Jun-Sep      4116 non-null   float64\n",
      " 18  Oct-Dec      4116 non-null   float64\n",
      "dtypes: float64(17), int64(1), object(1)\n",
      "memory usage: 611.1+ KB\n"
     ]
    },
    {
     "name": "stderr",
     "output_type": "stream",
     "text": [
      "C:\\Users\\Yogesh Mishra\\AppData\\Local\\Temp\\ipykernel_14892\\3669177981.py:2: FutureWarning: The default value of numeric_only in DataFrame.mean is deprecated. In a future version, it will default to False. In addition, specifying 'numeric_only=None' is deprecated. Select only valid columns or specify the value of numeric_only to silence this warning.\n",
      "  data = data.fillna(data.mean())\n"
     ]
    }
   ],
   "source": [
    "data = pd.read_csv(\"rainfall in india 1901-2015.csv\",sep=\",\")\n",
    "data = data.fillna(data.mean())\n",
    "data.info()"
   ]
  },
  {
   "cell_type": "code",
   "execution_count": 3,
   "id": "448cbdc4",
   "metadata": {},
   "outputs": [
    {
     "name": "stdout",
     "output_type": "stream",
     "text": [
      "Enter MonthJAN\n"
     ]
    }
   ],
   "source": [
    "# seperation of training and testing data\n",
    "from sklearn.model_selection import train_test_split\n",
    "from sklearn.metrics import mean_absolute_error\n",
    "k=input(\"Enter Month\")\n",
    "#year=int(input(\"Enter Year\"))\n",
    "#sub=input(\"SUBDIVISION\")\n",
    "division_data =(data[['YEAR',k]])\n",
    "\n",
    "#X = division_data; y = (data['ANNUAL'])\n",
    "X = division_data; y = (data[k])\n",
    "        \n",
    "X_train, X_test, y_train, y_test = train_test_split(X, y, test_size=0.1, random_state=42)"
   ]
  },
  {
   "cell_type": "code",
   "execution_count": 4,
   "id": "958e7d22",
   "metadata": {},
   "outputs": [
    {
     "name": "stdout",
     "output_type": "stream",
     "text": [
      "0.008260256816020379\n"
     ]
    }
   ],
   "source": [
    "from sklearn import linear_model\n",
    "\n",
    "# linear model\n",
    "reg = linear_model.ElasticNet(alpha=0.5)\n",
    "reg.fit(X_train, y_train)\n",
    "y_pred = reg.predict(X_test)\n",
    "print(mean_absolute_error(y_test, y_pred)) "
   ]
  },
  {
   "cell_type": "raw",
   "id": "525104a7",
   "metadata": {},
   "source": [
    "temp = data[['SUBDIVISION', 'YEAR', k]].loc[data['YEAR'] == year]\n",
    "print(temp.info)\n",
    "\n",
    "temp_inuse = np.asarray(temp[['YEAR', k]].loc[temp['SUBDIVISION'] == sub])\n",
    "X_new = temp_inuse \n",
    "y_new = data[k].loc[data['SUBDIVISION'] == sub]\n"
   ]
  },
  {
   "cell_type": "code",
   "execution_count": 5,
   "id": "43db3cd7",
   "metadata": {
    "scrolled": true
   },
   "outputs": [
    {
     "name": "stdout",
     "output_type": "stream",
     "text": [
      "12.919704523652452\n"
     ]
    }
   ],
   "source": [
    "from sklearn.svm import SVR\n",
    "\n",
    "# SVM model\n",
    "clf = SVR(kernel='rbf',gamma=25, C=90)\n",
    "clf.fit(X_train, y_train) \n",
    "y_pred = clf.predict(X_test)\n",
    "print(mean_absolute_error(y_test, y_pred))"
   ]
  },
  {
   "cell_type": "raw",
   "id": "569b0129",
   "metadata": {},
   "source": [
    "y_new_pred = clf.predict(X_new)\n",
    "\n",
    "\n",
    "print (\"MEAN\")\n",
    "print (np.mean(y_new),np.mean(y_new_pred))\n",
    "print (\"Standard deviation\")\n",
    "print (np.sqrt(np.var(y_new)),np.sqrt(np.var(y_new_pred)))\n",
    "\n"
   ]
  },
  {
   "cell_type": "code",
   "execution_count": 10,
   "id": "9885783a",
   "metadata": {},
   "outputs": [
    {
     "name": "stdout",
     "output_type": "stream",
     "text": [
      "[24.42507489]\n"
     ]
    },
    {
     "name": "stderr",
     "output_type": "stream",
     "text": [
      "C:\\ProgramData\\anaconda3\\Lib\\site-packages\\sklearn\\base.py:464: UserWarning: X does not have valid feature names, but SVR was fitted with feature names\n",
      "  warnings.warn(\n"
     ]
    }
   ],
   "source": [
    "from sklearn.preprocessing import LabelEncoder\n",
    "label_encoder = LabelEncoder()\n",
    "subdivision_label = label_encoder.fit_transform(['BIHAR'])\n",
    "\n",
    "#X_new1= np.array([subdivision_label[0], 2010,3])\n",
    "\n",
    "temp_inuse1 = np.asarray([[subdivision_label[0],2042]])\n",
    "X_new1 = temp_inuse1\n",
    "y_predd=clf.predict(X_new1)\n",
    "print(y_predd)"
   ]
  },
  {
   "cell_type": "code",
   "execution_count": null,
   "id": "24e6c8dd",
   "metadata": {},
   "outputs": [],
   "source": []
  }
 ],
 "metadata": {
  "kernelspec": {
   "display_name": "Python 3 (ipykernel)",
   "language": "python",
   "name": "python3"
  },
  "language_info": {
   "codemirror_mode": {
    "name": "ipython",
    "version": 3
   },
   "file_extension": ".py",
   "mimetype": "text/x-python",
   "name": "python",
   "nbconvert_exporter": "python",
   "pygments_lexer": "ipython3",
   "version": "3.11.4"
  }
 },
 "nbformat": 4,
 "nbformat_minor": 5
}
