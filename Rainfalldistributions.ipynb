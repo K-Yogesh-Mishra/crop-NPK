{
 "cells": [
  {
   "cell_type": "markdown",
   "id": "02b905a5",
   "metadata": {},
   "source": [
    "#  1. Introduction to SVM \n"
   ]
  },
  {
   "cell_type": "markdown",
   "id": "cfa105bd",
   "metadata": {},
   "source": [
    "Used SVM to build and train a model using human cell records, and classify cells to whether the samples are benign (mild state) or malignant (evil state).\n",
    "\n",
    "SVM works by mapping data to a high-dimensional feature space so that data points can be categorized, even when the data are not otherwise linearly separable (This gets done by kernel function of SVM classifier). A separator between the categories is found, then the data is transformed in such a way that the separator could be drawn as a hyperplane.\n"
   ]
  },
  {
   "cell_type": "markdown",
   "id": "e7422d5f",
   "metadata": {},
   "source": [
    "# 2. Necessary imports"
   ]
  },
  {
   "cell_type": "code",
   "execution_count": 1,
   "id": "4c655184",
   "metadata": {},
   "outputs": [
    {
     "name": "stdout",
     "output_type": "stream",
     "text": [
      "Defaulting to user installation because normal site-packages is not writeable\n",
      "Requirement already satisfied: numpy in c:\\programdata\\anaconda3\\lib\\site-packages (1.24.3)\n"
     ]
    }
   ],
   "source": [
    "!pip install numpy"
   ]
  },
  {
   "cell_type": "code",
   "execution_count": 2,
   "id": "f9a37f4f",
   "metadata": {},
   "outputs": [
    {
     "name": "stdout",
     "output_type": "stream",
     "text": [
      "Defaulting to user installation because normal site-packages is not writeable\n",
      "Requirement already satisfied: pandas in c:\\programdata\\anaconda3\\lib\\site-packages (1.5.3)\n",
      "Requirement already satisfied: python-dateutil>=2.8.1 in c:\\programdata\\anaconda3\\lib\\site-packages (from pandas) (2.8.2)\n",
      "Requirement already satisfied: pytz>=2020.1 in c:\\programdata\\anaconda3\\lib\\site-packages (from pandas) (2022.7)\n",
      "Requirement already satisfied: numpy>=1.21.0 in c:\\programdata\\anaconda3\\lib\\site-packages (from pandas) (1.24.3)\n",
      "Requirement already satisfied: six>=1.5 in c:\\programdata\\anaconda3\\lib\\site-packages (from python-dateutil>=2.8.1->pandas) (1.16.0)\n"
     ]
    }
   ],
   "source": [
    "!pip install pandas"
   ]
  },
  {
   "cell_type": "code",
   "execution_count": 3,
   "id": "8ec9c289",
   "metadata": {
    "scrolled": true
   },
   "outputs": [
    {
     "name": "stdout",
     "output_type": "stream",
     "text": [
      "Defaulting to user installation because normal site-packages is not writeable\n",
      "Requirement already satisfied: matplotlib in c:\\programdata\\anaconda3\\lib\\site-packages (3.7.1)\n",
      "Requirement already satisfied: contourpy>=1.0.1 in c:\\programdata\\anaconda3\\lib\\site-packages (from matplotlib) (1.0.5)\n",
      "Requirement already satisfied: cycler>=0.10 in c:\\programdata\\anaconda3\\lib\\site-packages (from matplotlib) (0.11.0)\n",
      "Requirement already satisfied: fonttools>=4.22.0 in c:\\programdata\\anaconda3\\lib\\site-packages (from matplotlib) (4.25.0)\n",
      "Requirement already satisfied: kiwisolver>=1.0.1 in c:\\programdata\\anaconda3\\lib\\site-packages (from matplotlib) (1.4.4)\n",
      "Requirement already satisfied: numpy>=1.20 in c:\\programdata\\anaconda3\\lib\\site-packages (from matplotlib) (1.24.3)\n",
      "Requirement already satisfied: packaging>=20.0 in c:\\programdata\\anaconda3\\lib\\site-packages (from matplotlib) (23.0)\n",
      "Requirement already satisfied: pillow>=6.2.0 in c:\\programdata\\anaconda3\\lib\\site-packages (from matplotlib) (9.4.0)\n",
      "Requirement already satisfied: pyparsing>=2.3.1 in c:\\programdata\\anaconda3\\lib\\site-packages (from matplotlib) (3.0.9)\n",
      "Requirement already satisfied: python-dateutil>=2.7 in c:\\programdata\\anaconda3\\lib\\site-packages (from matplotlib) (2.8.2)\n",
      "Requirement already satisfied: six>=1.5 in c:\\programdata\\anaconda3\\lib\\site-packages (from python-dateutil>=2.7->matplotlib) (1.16.0)\n"
     ]
    }
   ],
   "source": [
    "!pip install matplotlib\n",
    "\n"
   ]
  },
  {
   "cell_type": "code",
   "execution_count": 1,
   "id": "17049b59",
   "metadata": {},
   "outputs": [],
   "source": [
    "import numpy as np\n",
    "import pandas as pd\n",
    "from matplotlib import pyplot as plt\n",
    "import pandas as pd\n",
    "import numpy as np\n",
    "import math\n",
    "import sklearn\n",
    "from sklearn.model_selection import train_test_split\n",
    "from sklearn.metrics import mean_squared_error,r2_score,mean_absolute_error\n",
    "import matplotlib.pyplot as plt\n",
    "import seaborn as sb\n",
    "from sklearn import preprocessing"
   ]
  },
  {
   "cell_type": "markdown",
   "id": "8ba70ed5",
   "metadata": {},
   "source": [
    "# 3. About the Cancer data"
   ]
  },
  {
   "cell_type": "markdown",
   "id": "a5d74fa0",
   "metadata": {},
   "source": [
    "imported from the keggle dataset\n",
    "#### row-record\n",
    "#### coloumn-attribute/dimension\n",
    "#### target-prediction"
   ]
  },
  {
   "cell_type": "markdown",
   "id": "ca8c60a1",
   "metadata": {},
   "source": [
    "# 4. Load Data From CSV File "
   ]
  },
  {
   "cell_type": "code",
   "execution_count": 2,
   "id": "0d072268",
   "metadata": {},
   "outputs": [
    {
     "name": "stdout",
     "output_type": "stream",
     "text": [
      "Null values in the dataset before preprocessing:\n",
      "SUBDIVISION     0\n",
      "YEAR            0\n",
      "JAN             4\n",
      "FEB             3\n",
      "MAR             6\n",
      "APR             4\n",
      "MAY             3\n",
      "JUN             5\n",
      "JUL             7\n",
      "AUG             4\n",
      "SEP             6\n",
      "OCT             7\n",
      "NOV            11\n",
      "DEC            10\n",
      "ANNUAL         26\n",
      "Jan-Feb         6\n",
      "Mar-May         9\n",
      "Jun-Sep        10\n",
      "Oct-Dec        13\n",
      "dtype: int64\n",
      "Filling null values with mean of that particular column\n",
      "Mean of data:\n",
      "YEAR       1958.218659\n",
      "JAN          18.957320\n",
      "FEB          21.805325\n",
      "MAR          27.359197\n",
      "APR          43.127432\n",
      "MAY          85.745417\n",
      "JUN         230.234444\n",
      "JUL         347.214334\n",
      "AUG         290.263497\n",
      "SEP         197.361922\n",
      "OCT          95.507009\n",
      "NOV          39.866163\n",
      "DEC          18.870580\n",
      "ANNUAL     1411.008900\n",
      "Jan-Feb      40.747786\n",
      "Mar-May     155.901753\n",
      "Jun-Sep    1064.724769\n",
      "Oct-Dec     154.100487\n",
      "dtype: float64\n",
      "Null values in the dataset after preprocessing:\n",
      "SUBDIVISION    0\n",
      "YEAR           0\n",
      "JAN            0\n",
      "FEB            0\n",
      "MAR            0\n",
      "APR            0\n",
      "MAY            0\n",
      "JUN            0\n",
      "JUL            0\n",
      "AUG            0\n",
      "SEP            0\n",
      "OCT            0\n",
      "NOV            0\n",
      "DEC            0\n",
      "ANNUAL         0\n",
      "Jan-Feb        0\n",
      "Mar-May        0\n",
      "Jun-Sep        0\n",
      "Oct-Dec        0\n",
      "dtype: int64\n",
      "\n",
      "\n",
      "Shape:  (4116, 19)\n"
     ]
    },
    {
     "name": "stderr",
     "output_type": "stream",
     "text": [
      "C:\\ProgramData\\anaconda3\\Lib\\site-packages\\numpy\\core\\fromnumeric.py:3462: FutureWarning: In a future version, DataFrame.mean(axis=None) will return a scalar mean over the entire DataFrame. To retain the old behavior, use 'frame.mean(axis=0)' or just 'frame.mean()'\n",
      "  return mean(axis=axis, dtype=dtype, out=out, **kwargs)\n",
      "C:\\ProgramData\\anaconda3\\Lib\\site-packages\\numpy\\core\\fromnumeric.py:3462: FutureWarning: The default value of numeric_only in DataFrame.mean is deprecated. In a future version, it will default to False. In addition, specifying 'numeric_only=None' is deprecated. Select only valid columns or specify the value of numeric_only to silence this warning.\n",
      "  return mean(axis=axis, dtype=dtype, out=out, **kwargs)\n",
      "C:\\ProgramData\\anaconda3\\Lib\\site-packages\\numpy\\core\\fromnumeric.py:3462: FutureWarning: In a future version, DataFrame.mean(axis=None) will return a scalar mean over the entire DataFrame. To retain the old behavior, use 'frame.mean(axis=0)' or just 'frame.mean()'\n",
      "  return mean(axis=axis, dtype=dtype, out=out, **kwargs)\n",
      "C:\\ProgramData\\anaconda3\\Lib\\site-packages\\numpy\\core\\fromnumeric.py:3462: FutureWarning: The default value of numeric_only in DataFrame.mean is deprecated. In a future version, it will default to False. In addition, specifying 'numeric_only=None' is deprecated. Select only valid columns or specify the value of numeric_only to silence this warning.\n",
      "  return mean(axis=axis, dtype=dtype, out=out, **kwargs)\n"
     ]
    }
   ],
   "source": [
    "data= pd.read_csv('rainfall in india 1901-2015.csv')\n",
    "data.head()\n",
    "print(\"Null values in the dataset before preprocessing:\")\n",
    "print(data.isnull().sum())\n",
    "print(\"Filling null values with mean of that particular column\")\n",
    "data=data.fillna(np.mean(data))\n",
    "print(\"Mean of data:\")\n",
    "print(np.mean(data))\n",
    "print(\"Null values in the dataset after preprocessing:\")\n",
    "print(data.isnull().sum())\n",
    "print(\"\\n\\nShape: \",data.shape)"
   ]
  },
  {
   "cell_type": "code",
   "execution_count": 3,
   "id": "79a6533a",
   "metadata": {
    "scrolled": true
   },
   "outputs": [
    {
     "name": "stdout",
     "output_type": "stream",
     "text": [
      "Info:\n",
      "<class 'pandas.core.frame.DataFrame'>\n",
      "RangeIndex: 4116 entries, 0 to 4115\n",
      "Data columns (total 19 columns):\n",
      " #   Column       Non-Null Count  Dtype  \n",
      "---  ------       --------------  -----  \n",
      " 0   SUBDIVISION  4116 non-null   object \n",
      " 1   YEAR         4116 non-null   int64  \n",
      " 2   JAN          4116 non-null   float64\n",
      " 3   FEB          4116 non-null   float64\n",
      " 4   MAR          4116 non-null   float64\n",
      " 5   APR          4116 non-null   float64\n",
      " 6   MAY          4116 non-null   float64\n",
      " 7   JUN          4116 non-null   float64\n",
      " 8   JUL          4116 non-null   float64\n",
      " 9   AUG          4116 non-null   float64\n",
      " 10  SEP          4116 non-null   float64\n",
      " 11  OCT          4116 non-null   float64\n",
      " 12  NOV          4116 non-null   float64\n",
      " 13  DEC          4116 non-null   float64\n",
      " 14  ANNUAL       4116 non-null   float64\n",
      " 15  Jan-Feb      4116 non-null   float64\n",
      " 16  Mar-May      4116 non-null   float64\n",
      " 17  Jun-Sep      4116 non-null   float64\n",
      " 18  Oct-Dec      4116 non-null   float64\n",
      "dtypes: float64(17), int64(1), object(1)\n",
      "memory usage: 611.1+ KB\n",
      "None\n"
     ]
    }
   ],
   "source": [
    "print(\"Info:\")\n",
    "print(data.info())"
   ]
  },
  {
   "cell_type": "code",
   "execution_count": 4,
   "id": "f3dec2d5",
   "metadata": {},
   "outputs": [
    {
     "name": "stdout",
     "output_type": "stream",
     "text": [
      "Group by:\n"
     ]
    },
    {
     "data": {
      "text/plain": [
       "SUBDIVISION\n",
       "ANDAMAN & NICOBAR ISLANDS             110\n",
       "ARUNACHAL PRADESH                      97\n",
       "ASSAM & MEGHALAYA                     115\n",
       "BIHAR                                 115\n",
       "CHHATTISGARH                          115\n",
       "COASTAL ANDHRA PRADESH                115\n",
       "COASTAL KARNATAKA                     115\n",
       "EAST MADHYA PRADESH                   115\n",
       "EAST RAJASTHAN                        115\n",
       "EAST UTTAR PRADESH                    115\n",
       "GANGETIC WEST BENGAL                  115\n",
       "GUJARAT REGION                        115\n",
       "HARYANA DELHI & CHANDIGARH            115\n",
       "HIMACHAL PRADESH                      115\n",
       "JAMMU & KASHMIR                       115\n",
       "JHARKHAND                             115\n",
       "KERALA                                115\n",
       "KONKAN & GOA                          115\n",
       "LAKSHADWEEP                           114\n",
       "MADHYA MAHARASHTRA                    115\n",
       "MATATHWADA                            115\n",
       "NAGA MANI MIZO TRIPURA                115\n",
       "NORTH INTERIOR KARNATAKA              115\n",
       "ORISSA                                115\n",
       "PUNJAB                                115\n",
       "RAYALSEEMA                            115\n",
       "SAURASHTRA & KUTCH                    115\n",
       "SOUTH INTERIOR KARNATAKA              115\n",
       "SUB HIMALAYAN WEST BENGAL & SIKKIM    115\n",
       "TAMIL NADU                            115\n",
       "TELANGANA                             115\n",
       "UTTARAKHAND                           115\n",
       "VIDARBHA                              115\n",
       "WEST MADHYA PRADESH                   115\n",
       "WEST RAJASTHAN                        115\n",
       "WEST UTTAR PRADESH                    115\n",
       "dtype: int64"
      ]
     },
     "execution_count": 4,
     "metadata": {},
     "output_type": "execute_result"
    }
   ],
   "source": [
    "print(\"Group by:\")\n",
    "data.groupby('SUBDIVISION').size()"
   ]
  },
  {
   "cell_type": "code",
   "execution_count": 5,
   "id": "b47bf468",
   "metadata": {},
   "outputs": [
    {
     "name": "stdout",
     "output_type": "stream",
     "text": [
      "Co-Variance =                 YEAR          JAN          FEB           MAR           APR  \\\n",
      "YEAR     1098.319127   -62.525455   -26.333846     31.608776     17.985597   \n",
      "JAN       -62.525455  1126.880700   549.299548    627.375837    475.344306   \n",
      "FEB       -26.333846   549.299548  1288.551221    974.300386    892.111938   \n",
      "MAR        31.608776   627.375837   974.300386   2201.972143   1766.214414   \n",
      "APR        17.985597   475.344306   892.111938   1766.214414   4596.594854   \n",
      "MAY        14.668989   535.377197   896.648721   2094.072720   5433.121872   \n",
      "JUN      -105.646427  -265.334667   283.409286   1819.002965   7239.347234   \n",
      "JUL      -144.815256  -465.128448   156.524886   1227.377060   4883.946095   \n",
      "AUG        40.268753    75.536029   488.385320   1195.021166   3275.971621   \n",
      "SEP       -29.893921   110.216877   388.537697   1133.597551   3507.500523   \n",
      "OCT         7.922814    41.252990   -16.324506    401.044464   2478.380760   \n",
      "NOV       -42.624271   154.517515   -57.342083     28.337749    767.024409   \n",
      "DEC       -26.804831   311.215537   200.895960    270.309451    379.022457   \n",
      "ANNUAL   -239.492392  3182.200682  5831.636967  13551.372253  34892.913572   \n",
      "Jan-Feb   -87.619668  1675.112786  1837.200844   1601.188055   1367.102182   \n",
      "Mar-May    70.841300  1632.972340  2754.690073   6057.993672  11751.856167   \n",
      "Jun-Sep  -220.389375  -537.708253  1291.239831   5354.542547  18800.990715   \n",
      "Oct-Dec   -56.011703   507.405040   130.324910    702.446620   3611.891111   \n",
      "\n",
      "                  MAY            JUN            JUL            AUG  \\\n",
      "YEAR        14.668989    -105.646427    -144.815256      40.268753   \n",
      "JAN        535.377197    -265.334667    -465.128448      75.536029   \n",
      "FEB        896.648721     283.409286     156.524886     488.385320   \n",
      "MAR       2094.072720    1819.002965    1227.377060    1195.021166   \n",
      "APR       5433.121872    7239.347234    4883.946095    3275.971621   \n",
      "MAY      15175.769642   16377.076471   10998.210205    7649.136573   \n",
      "JUN      16377.076471   55022.202897   46742.156704   28995.034435   \n",
      "JUL      10998.210205   46742.156704   72528.044881   34865.908024   \n",
      "AUG       7649.136573   28995.034435   34865.908024   35599.654379   \n",
      "SEP       8195.841594   17494.413820   18689.175537   12689.249607   \n",
      "OCT       6466.235613   11407.373968    8011.623303    4698.672264   \n",
      "NOV       2957.825540    3683.106889     787.996420     225.143088   \n",
      "DEC       1297.885757     878.194764    -221.331169      13.095578   \n",
      "ANNUAL   76832.142562  186947.838753  196502.700078  128005.124370   \n",
      "Jan-Feb   1430.274263      14.101413    -304.676604     568.034975   \n",
      "Mar-May  22630.231857   25297.228770   16923.240288   12061.613866   \n",
      "Jun-Sep  43086.245286  147777.656772  172787.647754  111996.536530   \n",
      "Oct-Dec  10689.487044   15929.294431    8543.095960    4889.354198   \n",
      "\n",
      "                  SEP           OCT           NOV          DEC         ANNUAL  \\\n",
      "YEAR       -29.893921      7.922814    -42.624271   -26.804831    -239.492392   \n",
      "JAN        110.216877     41.252990    154.517515   311.215537    3182.200682   \n",
      "FEB        388.537697    -16.324506    -57.342083   200.895960    5831.636967   \n",
      "MAR       1133.597551    401.044464     28.337749   270.309451   13551.372253   \n",
      "APR       3507.500523   2478.380760    767.024409   379.022457   34892.913572   \n",
      "MAY       8195.841594   6466.235613   2957.825540  1297.885757   76832.142562   \n",
      "JUN      17494.413820  11407.373968   3683.106889   878.194764  186947.838753   \n",
      "JUL      18689.175537   8011.623303    787.996420  -221.331169  196502.700078   \n",
      "AUG      12689.249607   4698.672264    225.143088    13.095578  128005.124370   \n",
      "SEP      18308.685373   5160.065598   1423.645365   625.337757   86880.184870   \n",
      "OCT       5160.065598   9887.210250   3255.412215  1181.840586   52370.830566   \n",
      "NOV       1423.645365   3255.412215   4705.074413  1306.412604   18933.853987   \n",
      "DEC        625.337757   1181.840586   1306.412604  1790.821416    7849.560149   \n",
      "ANNUAL   86880.184870  52370.830566  18933.853987  7849.560149  811776.910930   \n",
      "Jan-Feb    497.514696     22.024800     92.528943   512.180397    9013.688346   \n",
      "Mar-May  12753.170806   9323.753288   3734.819277  1929.952379  125275.096761   \n",
      "Jun-Sep  67119.849971  29204.838323   6116.134359  1265.311019  598334.762240   \n",
      "Oct-Dec   7199.381976  14283.355731   9219.400872  4279.018309   79154.756536   \n",
      "\n",
      "             Jan-Feb        Mar-May        Jun-Sep       Oct-Dec  \n",
      "YEAR      -87.619668      70.841300    -220.389375    -56.011703  \n",
      "JAN      1675.112786    1632.972340    -537.708253    507.405040  \n",
      "FEB      1837.200844    2754.690073    1291.239831    130.324910  \n",
      "MAR      1601.188055    6057.993672    5354.542547    702.446620  \n",
      "APR      1367.102182   11751.856167   18800.990715   3611.891111  \n",
      "MAY      1430.274263   22630.231857   43086.245286  10689.487044  \n",
      "JUN        14.101413   25297.228770  147777.656772  15929.294431  \n",
      "JUL      -304.676604   16923.240288  172787.647754   8543.095960  \n",
      "AUG       568.034975   12061.613866  111996.536530   4889.354198  \n",
      "SEP       497.514696   12753.170806   67119.849971   7199.381976  \n",
      "OCT        22.024800    9323.753288   29204.838323  14283.355731  \n",
      "NOV        92.528943    3734.819277    6116.134359   9219.400872  \n",
      "DEC       512.180397    1929.952379    1265.311019   4279.018309  \n",
      "ANNUAL   9013.688346  125275.096761  598334.762240  79154.756536  \n",
      "Jan-Feb  3512.342973    4385.069178     756.357901    630.248247  \n",
      "Mar-May  4385.069178   40439.879705   66774.885424  14946.235220  \n",
      "Jun-Sep   756.357901   66774.885424  499680.824907  36465.214924  \n",
      "Oct-Dec   630.248247   14946.235220   36465.214924  27781.806104  \n",
      "Co-Relation =              YEAR       JAN       FEB       MAR       APR       MAY       JUN  \\\n",
      "YEAR     1.000000 -0.056202 -0.022136  0.020325  0.008005  0.003593 -0.013590   \n",
      "JAN     -0.056202  1.000000  0.455847  0.398275  0.208858  0.129463 -0.033697   \n",
      "FEB     -0.022136  0.455847  1.000000  0.578410  0.366564  0.202766  0.033658   \n",
      "MAR      0.020325  0.398275  0.578410  1.000000  0.555162  0.362252  0.165256   \n",
      "APR      0.008005  0.208858  0.366564  0.555162  1.000000  0.650513  0.455211   \n",
      "MAY      0.003593  0.129463  0.202766  0.362252  0.650513  1.000000  0.566751   \n",
      "JUN     -0.013590 -0.033697  0.033658  0.165256  0.455211  0.566751  1.000000   \n",
      "JUL     -0.016225 -0.051449  0.016191  0.097122  0.267485  0.331508  0.739923   \n",
      "AUG      0.006440  0.011926  0.072109  0.134973  0.256094  0.329090  0.655136   \n",
      "SEP     -0.006666  0.024265  0.079993  0.178535  0.382341  0.491688  0.551191   \n",
      "OCT      0.002404  0.012359 -0.004574  0.085951  0.367632  0.527885  0.489080   \n",
      "NOV     -0.018750  0.067105 -0.023288  0.008804  0.164933  0.350037  0.228909   \n",
      "DEC     -0.019113  0.219077  0.132250  0.136122  0.132105  0.248963  0.088470   \n",
      "ANNUAL  -0.008021  0.105213  0.180311  0.320523  0.571217  0.692228  0.884572   \n",
      "Jan-Feb -0.044611  0.841989  0.863589  0.575755  0.340239  0.195905  0.001014   \n",
      "Mar-May  0.010630  0.241899  0.381608  0.641975  0.861953  0.913500  0.536289   \n",
      "Jun-Sep -0.009408 -0.022660  0.050887  0.161425  0.392298  0.494785  0.891237   \n",
      "Oct-Dec -0.010140  0.090685  0.021782  0.089811  0.319622  0.520597  0.407425   \n",
      "\n",
      "              JUL       AUG       SEP       OCT       NOV       DEC    ANNUAL  \\\n",
      "YEAR    -0.016225  0.006440 -0.006666  0.002404 -0.018750 -0.019113 -0.008021   \n",
      "JAN     -0.051449  0.011926  0.024265  0.012359  0.067105  0.219077  0.105213   \n",
      "FEB      0.016191  0.072109  0.079993 -0.004574 -0.023288  0.132250  0.180311   \n",
      "MAR      0.097122  0.134973  0.178535  0.085951  0.008804  0.136122  0.320523   \n",
      "APR      0.267485  0.256094  0.382341  0.367632  0.164933  0.132105  0.571217   \n",
      "MAY      0.331508  0.329090  0.491688  0.527885  0.350037  0.248963  0.692228   \n",
      "JUN      0.739923  0.655136  0.551191  0.489080  0.228909  0.088470  0.884572   \n",
      "JUL      1.000000  0.686160  0.512872  0.299179  0.042657 -0.019421  0.809836   \n",
      "AUG      0.686160  1.000000  0.497032  0.250447  0.017396  0.001640  0.752985   \n",
      "SEP      0.512872  0.497032  1.000000  0.383522  0.153388  0.109209  0.712646   \n",
      "OCT      0.299179  0.250447  0.383522  1.000000  0.477294  0.280864  0.584567   \n",
      "NOV      0.042657  0.017396  0.153388  0.477294  1.000000  0.450061  0.306364   \n",
      "DEC     -0.019421  0.001640  0.109209  0.280864  0.450061  1.000000  0.205874   \n",
      "ANNUAL   0.809836  0.752985  0.712646  0.584567  0.306364  0.205874  1.000000   \n",
      "Jan-Feb -0.019089  0.050799  0.062041  0.003737  0.022761  0.204220  0.168805   \n",
      "Mar-May  0.312482  0.317891  0.468689  0.466282  0.270758  0.226786  0.691419   \n",
      "Jun-Sep  0.907639  0.839722  0.701740  0.415501  0.126138  0.042298  0.939463   \n",
      "Oct-Dec  0.190319  0.155471  0.319217  0.861813  0.806379  0.606649  0.527082   \n",
      "\n",
      "          Jan-Feb   Mar-May   Jun-Sep   Oct-Dec  \n",
      "YEAR    -0.044611  0.010630 -0.009408 -0.010140  \n",
      "JAN      0.841989  0.241899 -0.022660  0.090685  \n",
      "FEB      0.863589  0.381608  0.050887  0.021782  \n",
      "MAR      0.575755  0.641975  0.161425  0.089811  \n",
      "APR      0.340239  0.861953  0.392298  0.319622  \n",
      "MAY      0.195905  0.913500  0.494785  0.520597  \n",
      "JUN      0.001014  0.536289  0.891237  0.407425  \n",
      "JUL     -0.019089  0.312482  0.907639  0.190319  \n",
      "AUG      0.050799  0.317891  0.839722  0.155471  \n",
      "SEP      0.062041  0.468689  0.701740  0.319217  \n",
      "OCT      0.003737  0.466282  0.415501  0.861813  \n",
      "NOV      0.022761  0.270758  0.126138  0.806379  \n",
      "DEC      0.204220  0.226786  0.042298  0.606649  \n",
      "ANNUAL   0.168805  0.691419  0.939463  0.527082  \n",
      "Jan-Feb  1.000000  0.367937  0.018054  0.063802  \n",
      "Mar-May  0.367937  1.000000  0.469745  0.445909  \n",
      "Jun-Sep  0.018054  0.469745  1.000000  0.309494  \n",
      "Oct-Dec  0.063802  0.445909  0.309494  1.000000  \n"
     ]
    },
    {
     "name": "stderr",
     "output_type": "stream",
     "text": [
      "C:\\Users\\Yogesh Mishra\\AppData\\Local\\Temp\\ipykernel_28160\\2980793991.py:1: FutureWarning: The default value of numeric_only in DataFrame.cov is deprecated. In a future version, it will default to False. Select only valid columns or specify the value of numeric_only to silence this warning.\n",
      "  print(\"Co-Variance =\",data.cov())\n",
      "C:\\Users\\Yogesh Mishra\\AppData\\Local\\Temp\\ipykernel_28160\\2980793991.py:2: FutureWarning: The default value of numeric_only in DataFrame.corr is deprecated. In a future version, it will default to False. Select only valid columns or specify the value of numeric_only to silence this warning.\n",
      "  print(\"Co-Relation =\",data.corr())\n"
     ]
    }
   ],
   "source": [
    "print(\"Co-Variance =\",data.cov())\n",
    "print(\"Co-Relation =\",data.corr())"
   ]
  },
  {
   "cell_type": "code",
   "execution_count": 6,
   "id": "04148944",
   "metadata": {},
   "outputs": [
    {
     "name": "stdout",
     "output_type": "stream",
     "text": [
      "Index of correlation columns: Index(['ANNUAL', 'Jun-Sep', 'JUN', 'JUL', 'AUG', 'SEP', 'MAY', 'Mar-May',\n",
      "       'OCT', 'APR', 'Oct-Dec', 'MAR', 'NOV', 'DEC', 'FEB', 'Jan-Feb', 'JAN',\n",
      "       'YEAR'],\n",
      "      dtype='object')\n"
     ]
    },
    {
     "name": "stderr",
     "output_type": "stream",
     "text": [
      "C:\\Users\\Yogesh Mishra\\AppData\\Local\\Temp\\ipykernel_28160\\195724475.py:1: FutureWarning: The default value of numeric_only in DataFrame.corr is deprecated. In a future version, it will default to False. Select only valid columns or specify the value of numeric_only to silence this warning.\n",
      "  corr_cols=data.corr()['ANNUAL'].sort_values()[::-1]\n"
     ]
    }
   ],
   "source": [
    "corr_cols=data.corr()['ANNUAL'].sort_values()[::-1]\n",
    "print(\"Index of correlation columns:\",corr_cols.index)"
   ]
  },
  {
   "cell_type": "code",
   "execution_count": 7,
   "id": "ab4183b2",
   "metadata": {},
   "outputs": [
    {
     "name": "stdout",
     "output_type": "stream",
     "text": [
      "Scatter plot of annual and january attributes\n"
     ]
    },
    {
     "data": {
      "text/plain": [
       "<matplotlib.collections.PathCollection at 0x26f11bec090>"
      ]
     },
     "execution_count": 7,
     "metadata": {},
     "output_type": "execute_result"
    },
    {
     "data": {
      "image/png": "[encoded data removed]",
      "text/plain": [
       "<Figure size 640x480 with 1 Axes>"
      ]
     },
     "metadata": {},
     "output_type": "display_data"
    }
   ],
   "source": [
    "print(\"Scatter plot of annual and january attributes\")\n",
    "plt.scatter(data.ANNUAL,data.JAN)"
   ]
  },
  {
   "cell_type": "code",
   "execution_count": 8,
   "id": "38366684",
   "metadata": {},
   "outputs": [
    {
     "name": "stdout",
     "output_type": "stream",
     "text": [
      "Box Plot of annual rainfall data in years 1901-2015\n"
     ]
    },
    {
     "data": {
      "text/plain": [
       "<Axes: >"
      ]
     },
     "execution_count": 8,
     "metadata": {},
     "output_type": "execute_result"
    },
    {
     "data": {
      "image/png": "[encoded data removed]",
      "text/plain": [
       "<Figure size 640x480 with 1 Axes>"
      ]
     },
     "metadata": {},
     "output_type": "display_data"
    }
   ],
   "source": [
    "print(\"Box Plot of annual rainfall data in years 1901-2015\")\n",
    "data['ANNUAL'].plot(kind='box',sharex=False,sharey=False)"
   ]
  },
  {
   "cell_type": "code",
   "execution_count": 9,
   "id": "c818202d",
   "metadata": {},
   "outputs": [
    {
     "name": "stdout",
     "output_type": "stream",
     "text": [
      "Histograms showing the data from attributes (JANUARY to DECEMBER) of the years 1901-2015:\n"
     ]
    },
    {
     "data": {
      "text/plain": [
       "<Axes: >"
      ]
     },
     "execution_count": 9,
     "metadata": {},
     "output_type": "execute_result"
    },
    {
     "data": {
      "image/png": "[encoded data removed]",
      "text/plain": [
       "<Figure size 640x480 with 1 Axes>"
      ]
     },
     "metadata": {},
     "output_type": "display_data"
    }
   ],
   "source": [
    "print(\"Histograms showing the data from attributes (JANUARY to DECEMBER) of the years 1901-2015:\")\n",
    "data['JAN'].hist(bins=20)\n",
    "data['FEB'].hist(bins=20)\n",
    "data['MAR'].hist(bins=20)\n",
    "data['APR'].hist(bins=20)\n",
    "data['MAY'].hist(bins=20)\n",
    "data['JUN'].hist(bins=20)\n",
    "data['JUL'].hist(bins=20)\n",
    "data['AUG'].hist(bins=20)\n",
    "data['SEP'].hist(bins=20)\n",
    "data['OCT'].hist(bins=20)\n",
    "data['NOV'].hist(bins=20)\n",
    "data['DEC'].hist(bins=20)"
   ]
  },
  {
   "cell_type": "code",
   "execution_count": 10,
   "id": "c137445c",
   "metadata": {},
   "outputs": [
    {
     "name": "stdout",
     "output_type": "stream",
     "text": [
      "Histogram showing the annual rainfall of the all states:\n"
     ]
    },
    {
     "data": {
      "text/plain": [
       "<Axes: >"
      ]
     },
     "execution_count": 10,
     "metadata": {},
     "output_type": "execute_result"
    },
    {
     "data": {
      "image/png": "[encoded data removed]",
      "text/plain": [
       "<Figure size 640x480 with 1 Axes>"
      ]
     },
     "metadata": {},
     "output_type": "display_data"
    }
   ],
   "source": [
    "print(\"Histogram showing the annual rainfall of the all states:\")\n",
    "data['ANNUAL'].hist(bins=20)"
   ]
  },
  {
   "cell_type": "code",
   "execution_count": 11,
   "id": "30511e3e",
   "metadata": {
    "scrolled": true
   },
   "outputs": [
    {
     "name": "stdout",
     "output_type": "stream",
     "text": [
      "Months are:  ['JAN', 'FEB', 'MAR', 'APR', 'MAY', 'JUN', 'JUL', 'AUG', 'SEP', 'OCT', 'NOV', 'DEC']\n",
      "JAN      72.6\n",
      "FEB     405.6\n",
      "MAR      44.7\n",
      "APR     232.6\n",
      "MAY    1794.0\n",
      "JUN    2658.3\n",
      "JUL    2193.1\n",
      "AUG    2052.1\n",
      "SEP    2455.2\n",
      "OCT    1249.8\n",
      "NOV    1535.7\n",
      "DEC     803.9\n",
      "dtype: float64\n"
     ]
    }
   ],
   "source": [
    "d2=data.drop(['SUBDIVISION','YEAR','ANNUAL','Jan-Feb','Mar-May','Jun-Sep','Oct-Dec'],axis=1)\n",
    "k=((d2.head().sum()))\n",
    "month=list(d2.head())\n",
    "print(\"Months are: \",month)\n",
    "print(k)"
   ]
  },
  {
   "cell_type": "code",
   "execution_count": 53,
   "id": "586afb8f",
   "metadata": {},
   "outputs": [
    {
     "ename": "TypeError",
     "evalue": "Expected sequence or array-like, got <class 'NoneType'>",
     "output_type": "error",
     "traceback": [
      "\u001b[1;31m---------------------------------------------------------------------------\u001b[0m",
      "\u001b[1;31mTypeError\u001b[0m                                 Traceback (most recent call last)",
      "Cell \u001b[1;32mIn[53], line 15\u001b[0m\n\u001b[0;32m     12\u001b[0m         X \u001b[38;5;241m=\u001b[39m np\u001b[38;5;241m.\u001b[39mconcatenate((X, division_data[i:i\u001b[38;5;241m+\u001b[39m\u001b[38;5;241m3\u001b[39m]), axis\u001b[38;5;241m=\u001b[39m\u001b[38;5;241m0\u001b[39m)\n\u001b[0;32m     13\u001b[0m         y \u001b[38;5;241m=\u001b[39m np\u001b[38;5;241m.\u001b[39mconcatenate((y, division_data[i\u001b[38;5;241m+\u001b[39m\u001b[38;5;241m3\u001b[39m]), axis\u001b[38;5;241m=\u001b[39m\u001b[38;5;241m0\u001b[39m)\n\u001b[1;32m---> 15\u001b[0m X_train, X_test, y_train, y_test \u001b[38;5;241m=\u001b[39m train_test_split(X, y, test_size\u001b[38;5;241m=\u001b[39m\u001b[38;5;241m0.1\u001b[39m, random_state\u001b[38;5;241m=\u001b[39m\u001b[38;5;241m42\u001b[39m)\n",
      "File \u001b[1;32mC:\\ProgramData\\anaconda3\\Lib\\site-packages\\sklearn\\utils\\_param_validation.py:211\u001b[0m, in \u001b[0;36mvalidate_params.<locals>.decorator.<locals>.wrapper\u001b[1;34m(*args, **kwargs)\u001b[0m\n\u001b[0;32m    205\u001b[0m \u001b[38;5;28;01mtry\u001b[39;00m:\n\u001b[0;32m    206\u001b[0m     \u001b[38;5;28;01mwith\u001b[39;00m config_context(\n\u001b[0;32m    207\u001b[0m         skip_parameter_validation\u001b[38;5;241m=\u001b[39m(\n\u001b[0;32m    208\u001b[0m             prefer_skip_nested_validation \u001b[38;5;129;01mor\u001b[39;00m global_skip_validation\n\u001b[0;32m    209\u001b[0m         )\n\u001b[0;32m    210\u001b[0m     ):\n\u001b[1;32m--> 211\u001b[0m         \u001b[38;5;28;01mreturn\u001b[39;00m func(\u001b[38;5;241m*\u001b[39margs, \u001b[38;5;241m*\u001b[39m\u001b[38;5;241m*\u001b[39mkwargs)\n\u001b[0;32m    212\u001b[0m \u001b[38;5;28;01mexcept\u001b[39;00m InvalidParameterError \u001b[38;5;28;01mas\u001b[39;00m e:\n\u001b[0;32m    213\u001b[0m     \u001b[38;5;66;03m# When the function is just a wrapper around an estimator, we allow\u001b[39;00m\n\u001b[0;32m    214\u001b[0m     \u001b[38;5;66;03m# the function to delegate validation to the estimator, but we replace\u001b[39;00m\n\u001b[0;32m    215\u001b[0m     \u001b[38;5;66;03m# the name of the estimator by the name of the function in the error\u001b[39;00m\n\u001b[0;32m    216\u001b[0m     \u001b[38;5;66;03m# message to avoid confusion.\u001b[39;00m\n\u001b[0;32m    217\u001b[0m     msg \u001b[38;5;241m=\u001b[39m re\u001b[38;5;241m.\u001b[39msub(\n\u001b[0;32m    218\u001b[0m         \u001b[38;5;124mr\u001b[39m\u001b[38;5;124m\"\u001b[39m\u001b[38;5;124mparameter of \u001b[39m\u001b[38;5;124m\\\u001b[39m\u001b[38;5;124mw+ must be\u001b[39m\u001b[38;5;124m\"\u001b[39m,\n\u001b[0;32m    219\u001b[0m         \u001b[38;5;124mf\u001b[39m\u001b[38;5;124m\"\u001b[39m\u001b[38;5;124mparameter of \u001b[39m\u001b[38;5;132;01m{\u001b[39;00mfunc\u001b[38;5;241m.\u001b[39m\u001b[38;5;18m__qualname__\u001b[39m\u001b[38;5;132;01m}\u001b[39;00m\u001b[38;5;124m must be\u001b[39m\u001b[38;5;124m\"\u001b[39m,\n\u001b[0;32m    220\u001b[0m         \u001b[38;5;28mstr\u001b[39m(e),\n\u001b[0;32m    221\u001b[0m     )\n",
      "File \u001b[1;32mC:\\ProgramData\\anaconda3\\Lib\\site-packages\\sklearn\\model_selection\\_split.py:2616\u001b[0m, in \u001b[0;36mtrain_test_split\u001b[1;34m(test_size, train_size, random_state, shuffle, stratify, *arrays)\u001b[0m\n\u001b[0;32m   2612\u001b[0m     \u001b[38;5;28;01mraise\u001b[39;00m \u001b[38;5;167;01mValueError\u001b[39;00m(\u001b[38;5;124m\"\u001b[39m\u001b[38;5;124mAt least one array required as input\u001b[39m\u001b[38;5;124m\"\u001b[39m)\n\u001b[0;32m   2614\u001b[0m arrays \u001b[38;5;241m=\u001b[39m indexable(\u001b[38;5;241m*\u001b[39marrays)\n\u001b[1;32m-> 2616\u001b[0m n_samples \u001b[38;5;241m=\u001b[39m _num_samples(arrays[\u001b[38;5;241m0\u001b[39m])\n\u001b[0;32m   2617\u001b[0m n_train, n_test \u001b[38;5;241m=\u001b[39m _validate_shuffle_split(\n\u001b[0;32m   2618\u001b[0m     n_samples, test_size, train_size, default_test_size\u001b[38;5;241m=\u001b[39m\u001b[38;5;241m0.25\u001b[39m\n\u001b[0;32m   2619\u001b[0m )\n\u001b[0;32m   2621\u001b[0m \u001b[38;5;28;01mif\u001b[39;00m shuffle \u001b[38;5;129;01mis\u001b[39;00m \u001b[38;5;28;01mFalse\u001b[39;00m:\n",
      "File \u001b[1;32mC:\\ProgramData\\anaconda3\\Lib\\site-packages\\sklearn\\utils\\validation.py:343\u001b[0m, in \u001b[0;36m_num_samples\u001b[1;34m(x)\u001b[0m\n\u001b[0;32m    341\u001b[0m         x \u001b[38;5;241m=\u001b[39m np\u001b[38;5;241m.\u001b[39masarray(x)\n\u001b[0;32m    342\u001b[0m     \u001b[38;5;28;01melse\u001b[39;00m:\n\u001b[1;32m--> 343\u001b[0m         \u001b[38;5;28;01mraise\u001b[39;00m \u001b[38;5;167;01mTypeError\u001b[39;00m(message)\n\u001b[0;32m    345\u001b[0m \u001b[38;5;28;01mif\u001b[39;00m \u001b[38;5;28mhasattr\u001b[39m(x, \u001b[38;5;124m\"\u001b[39m\u001b[38;5;124mshape\u001b[39m\u001b[38;5;124m\"\u001b[39m) \u001b[38;5;129;01mand\u001b[39;00m x\u001b[38;5;241m.\u001b[39mshape \u001b[38;5;129;01mis\u001b[39;00m \u001b[38;5;129;01mnot\u001b[39;00m \u001b[38;5;28;01mNone\u001b[39;00m:\n\u001b[0;32m    346\u001b[0m     \u001b[38;5;28;01mif\u001b[39;00m \u001b[38;5;28mlen\u001b[39m(x\u001b[38;5;241m.\u001b[39mshape) \u001b[38;5;241m==\u001b[39m \u001b[38;5;241m0\u001b[39m:\n",
      "\u001b[1;31mTypeError\u001b[0m: Expected sequence or array-like, got <class 'NoneType'>"
     ]
    }
   ],
   "source": [
    "from sklearn.model_selection import train_test_split\n",
    "from sklearn.metrics import mean_absolute_error\n",
    "\n",
    "division_data = np.asarray(data[['Year','Month']])\n",
    "\n",
    "X = None; y = None\n",
    "for i in range(division_data.shape[1]-3):\n",
    "    if X is None:\n",
    "        X = division_data[i:i+3]\n",
    "        y = division_data[i+3]\n",
    "    else:\n",
    "        X = np.concatenate((X, division_data[i:i+3]), axis=0)\n",
    "        y = np.concatenate((y, division_data[i+3]), axis=0)\n",
    "        \n",
    "X_train, X_test, y_train, y_test = train_test_split(X, y, test_size=0.1, random_state=42)"
   ]
  },
  {
   "cell_type": "code",
   "execution_count": 45,
   "id": "3e9b6019",
   "metadata": {},
   "outputs": [],
   "source": [
    "from sklearn import svm\n",
    "from sklearn.svm import SVR\n",
    "classifier=SVR(kernel='rbf',gamma=40, C=2)\n",
    "classifier.fit(X_train,y_train)\n",
    "\n",
    "y_predict=classifier.predict(X_test)"
   ]
  },
  {
   "cell_type": "code",
   "execution_count": 46,
   "id": "d922766b",
   "metadata": {},
   "outputs": [
    {
     "data": {
      "image/png": "[encoded data removed]",
      "text/plain": [
       "<Figure size 640x480 with 1 Axes>"
      ]
     },
     "metadata": {},
     "output_type": "display_data"
    }
   ],
   "source": [
    "plt.scatter(y_test, y_predict)\n",
    "plt.xlabel(\"Actual\", color='r')\n",
    "plt.xlabel(\"predicted\")\n",
    "plt.show()"
   ]
  },
  {
   "cell_type": "code",
   "execution_count": 47,
   "id": "ea56b012",
   "metadata": {},
   "outputs": [],
   "source": [
    "from sklearn.metrics import classification_report\n",
    "from sklearn.metrics import accuracy_score\n",
    "from sklearn.metrics import confusion_matrix\n",
    "from sklearn.metrics import mean_squared_error\n",
    "from sklearn.metrics import r2_score\n",
    "from sklearn.metrics import mean_absolute_error\n",
    "from sklearn.metrics import brier_score_loss"
   ]
  },
  {
   "cell_type": "code",
   "execution_count": 48,
   "id": "14a58d8c",
   "metadata": {},
   "outputs": [
    {
     "data": {
      "text/plain": [
       "1028411.2558637158"
      ]
     },
     "execution_count": 48,
     "metadata": {},
     "output_type": "execute_result"
    }
   ],
   "source": [
    "mean_squared_error(y_test, y_predict)"
   ]
  },
  {
   "cell_type": "code",
   "execution_count": 49,
   "id": "74a510c7",
   "metadata": {},
   "outputs": [
    {
     "data": {
      "text/plain": [
       "-0.11901727045255805"
      ]
     },
     "execution_count": 49,
     "metadata": {},
     "output_type": "execute_result"
    }
   ],
   "source": [
    "r2_score(y_test, y_predict)"
   ]
  },
  {
   "cell_type": "code",
   "execution_count": 50,
   "id": "a4552f99",
   "metadata": {},
   "outputs": [
    {
     "data": {
      "text/plain": [
       "685.3481901803422"
      ]
     },
     "execution_count": 50,
     "metadata": {},
     "output_type": "execute_result"
    }
   ],
   "source": [
    "mean_absolute_error(y_test, y_predict)"
   ]
  },
  {
   "cell_type": "markdown",
   "id": "30f0391f",
   "metadata": {},
   "source": [
    "# 5. Distribution of the classes"
   ]
  },
  {
   "cell_type": "markdown",
   "id": "093e75f9",
   "metadata": {},
   "source": [
    "# 6. Selection of unwanted columns"
   ]
  },
  {
   "cell_type": "markdown",
   "id": "a7669e26",
   "metadata": {},
   "source": [
    "# 7. Remove unwanted columns"
   ]
  },
  {
   "cell_type": "markdown",
   "id": "e2f0ec15",
   "metadata": {},
   "source": [
    "# 8. Divide the data as Train/Test dataset"
   ]
  },
  {
   "cell_type": "markdown",
   "id": "04552a99",
   "metadata": {},
   "source": [
    "# 9. Modeling (SVM with Scikit-learn)"
   ]
  },
  {
   "cell_type": "markdown",
   "id": "39c6439b",
   "metadata": {},
   "source": [
    "# 10. Evaluation (Results)}"
   ]
  },
  {
   "cell_type": "code",
   "execution_count": null,
   "id": "21957d97",
   "metadata": {},
   "outputs": [],
   "source": []
  }
 ],
 "metadata": {
  "kernelspec": {
   "display_name": "Python 3 (ipykernel)",
   "language": "python",
   "name": "python3"
  },
  "language_info": {
   "codemirror_mode": {
    "name": "ipython",
    "version": 3
   },
   "file_extension": ".py",
   "mimetype": "text/x-python",
   "name": "python",
   "nbconvert_exporter": "python",
   "pygments_lexer": "ipython3",
   "version": "3.11.4"
  }
 },
 "nbformat": 4,
 "nbformat_minor": 5
}
